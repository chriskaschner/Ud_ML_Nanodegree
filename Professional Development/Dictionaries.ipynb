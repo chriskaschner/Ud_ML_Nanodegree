{
 "cells": [
  {
   "cell_type": "code",
   "execution_count": 56,
   "metadata": {
    "collapsed": false
   },
   "outputs": [],
   "source": [
    "\"\"\"Time to play with Python dictionaries!\n",
    "You're going to work on a dictionary that\n",
    "stores cities by country and continent.\n",
    "One is done for you - the city of Mountain \n",
    "View is in the USA, which is in North America.\n",
    "\n",
    "You need to add the cities listed below by\n",
    "modifying the structure.\n",
    "Then, you should print out the values specified\n",
    "by looking them up in the structure.\n",
    "\n",
    "Cities to add:\n",
    "Bangalore (India, Asia)\n",
    "Atlanta (USA, North America)\n",
    "Cairo (Egypt, Africa)\n",
    "Shanghai (China, Asia)\"\"\"\n",
    "\n",
    "locations = {}\n",
    "\n",
    "#Continents\n",
    "locations['Asia'] = {}\n",
    "locations['North America'] = {}\n",
    "locations['Africa'] = {}\n",
    "\n",
    "#Countries\n",
    "locations['North America']['USA'] = {}\n",
    "locations['Asia']['India'] = {}\n",
    "locations['Asia']['China'] = {}\n",
    "locations['Africa']['Egypt'] = {}\n",
    "\n",
    "#Cities\n",
    "\n",
    "\n",
    "\n",
    "locations['North America']['USA'] = ['Mountain View']\n",
    "locations['North America']['USA'].append('Atlanta')\n",
    "locations['Asia']['India'] = ['Bangalore']\n",
    "locations['Asia']['China'] = ['Shanghai']\n",
    "locations['Africa']['Egypt'] = ['Cairo']\n",
    "\n",
    "# \"\"\"Print the following (using \"print\").\n",
    "# 1. A list of all cities in the USA in\n",
    "# alphabetic order.\n",
    "# 2. All cities in Asia, in alphabetic\n",
    "# order, next to the name of the country.\n",
    "# In your output, label each answer with a number\n",
    "# so it looks like this:\n",
    "# 1\n",
    "# American City\n",
    "# American City\n",
    "# 2\n",
    "# Asian City - Country\n",
    "# Asian City - Country\"\"\""
   ]
  },
  {
   "cell_type": "code",
   "execution_count": 57,
   "metadata": {
    "collapsed": false
   },
   "outputs": [
    {
     "name": "stdout",
     "output_type": "stream",
     "text": [
      "['Mountain View', 'Atlanta']\n"
     ]
    }
   ],
   "source": [
    "print locations['North America']['USA']"
   ]
  },
  {
   "cell_type": "code",
   "execution_count": 66,
   "metadata": {
    "collapsed": false
   },
   "outputs": [
    {
     "name": "stdout",
     "output_type": "stream",
     "text": [
      "1\n",
      "Atlanta\n",
      "Mountain View\n"
     ]
    }
   ],
   "source": [
    "print \"1\"\n",
    "for f in sorted(locations['North America']['USA']):\n",
    "    print f"
   ]
  },
  {
   "cell_type": "code",
   "execution_count": 72,
   "metadata": {
    "collapsed": false
   },
   "outputs": [],
   "source": [
    "AsianCity = []\n",
    "for f in sorted(locations['Asia']['China']):\n",
    "    AsianCity.append(f)"
   ]
  },
  {
   "cell_type": "code",
   "execution_count": 75,
   "metadata": {
    "collapsed": false
   },
   "outputs": [
    {
     "name": "stdout",
     "output_type": "stream",
     "text": [
      "[]\n"
     ]
    }
   ],
   "source": []
  },
  {
   "cell_type": "code",
   "execution_count": null,
   "metadata": {
    "collapsed": true
   },
   "outputs": [],
   "source": []
  }
 ],
 "metadata": {
  "kernelspec": {
   "display_name": "Python 2",
   "language": "python",
   "name": "python2"
  },
  "language_info": {
   "codemirror_mode": {
    "name": "ipython",
    "version": 2
   },
   "file_extension": ".py",
   "mimetype": "text/x-python",
   "name": "python",
   "nbconvert_exporter": "python",
   "pygments_lexer": "ipython2",
   "version": "2.7.12"
  }
 },
 "nbformat": 4,
 "nbformat_minor": 0
}
