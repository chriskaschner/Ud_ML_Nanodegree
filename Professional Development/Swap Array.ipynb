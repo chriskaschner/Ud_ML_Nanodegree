{
 "cells": [
  {
   "cell_type": "markdown",
   "metadata": {},
   "source": [
    "Given a 1D array, how would you define a function to swap the first and third elements?"
   ]
  },
  {
   "cell_type": "markdown",
   "metadata": {},
   "source": [
    "During the interview I mistakenly idenitifed Python lists as being immutable.  With that in mind I drew up this solution based on that assumption."
   ]
  },
  {
   "cell_type": "code",
   "execution_count": 1,
   "metadata": {
    "collapsed": false
   },
   "outputs": [
    {
     "name": "stdout",
     "output_type": "stream",
     "text": [
      "pre swap operation  [1, 2, 3, 4, 5]\n",
      "post swap operation [3, 2, 1, 4, 5]\n"
     ]
    }
   ],
   "source": [
    "# 1D array\n",
    "a = [1,2,3,4,5]\n",
    "\n",
    "def swap_a(array, element1, element2):\n",
    "    if len(array) > (element2 - element1):\n",
    "        new_array = []\n",
    "        new_array.append(array[element2])\n",
    "        new_array.append(array[1])\n",
    "        new_array.append(array[element1])\n",
    "        new_array.extend(array[3:]) # need to switch here to .extend to iterate remaining items\n",
    "        return new_array\n",
    "    else:\n",
    "        return False\n",
    "    \n",
    "print \"pre swap operation \", a\n",
    "print \"post swap operation\", swap_a(a,0,2)"
   ]
  },
  {
   "cell_type": "code",
   "execution_count": 2,
   "metadata": {
    "collapsed": false
   },
   "outputs": [
    {
     "name": "stdout",
     "output_type": "stream",
     "text": [
      "should swap [3, 2, 1]\n",
      "should return False when attempting to swap 1st and 4th positions- False\n"
     ]
    }
   ],
   "source": [
    "# test the if statment for length\n",
    "short_array = [1,2,3]\n",
    "print \"should swap\", swap_a(short_array,0,2)\n",
    "print \"should return False when attempting to swap 1st and 4th positions-\", swap_a(short_array,0,3)"
   ]
  },
  {
   "cell_type": "markdown",
   "metadata": {},
   "source": [
    "While the above solution works, here is the more elegant alternative that utilizes the mutability of lists."
   ]
  },
  {
   "cell_type": "code",
   "execution_count": 3,
   "metadata": {
    "collapsed": false
   },
   "outputs": [
    {
     "name": "stdout",
     "output_type": "stream",
     "text": [
      "pre swap operation  [1, 2, 3, 4, 5]\n",
      "post swap operation [3, 2, 1, 4, 5]\n"
     ]
    }
   ],
   "source": [
    "# 1D array\n",
    "b = [1,2,3,4,5]\n",
    "\n",
    "def swap_b(array, element1, element2):\n",
    "    if len(array) > (element2 - element1):\n",
    "        array[element1], array[element2] = array[element2], array[element1]\n",
    "        return array\n",
    "    else:\n",
    "        return False\n",
    "print \"pre swap operation \", b\n",
    "print \"post swap operation\", swap_b(b,0,2)"
   ]
  },
  {
   "cell_type": "code",
   "execution_count": 4,
   "metadata": {
    "collapsed": false
   },
   "outputs": [
    {
     "name": "stdout",
     "output_type": "stream",
     "text": [
      "should swap [3, 2, 1]\n",
      "should return False when attempting to swap 1st and 4th positions- False\n"
     ]
    }
   ],
   "source": [
    "# test the if statment for length\n",
    "short_array = [1,2,3]\n",
    "print \"should swap\", swap_b(short_array,0,2)\n",
    "print \"should return False when attempting to swap 1st and 4th positions-\", swap_b(short_array,0,3)"
   ]
  },
  {
   "cell_type": "markdown",
   "metadata": {},
   "source": [
    "This version has a time complexity of O(1) and space complexity of O(1) vs O(n) time and O(n) space for the solution above."
   ]
  }
 ],
 "metadata": {
  "kernelspec": {
   "display_name": "Python 2",
   "language": "python",
   "name": "python2"
  },
  "language_info": {
   "codemirror_mode": {
    "name": "ipython",
    "version": 2
   },
   "file_extension": ".py",
   "mimetype": "text/x-python",
   "name": "python",
   "nbconvert_exporter": "python",
   "pygments_lexer": "ipython2",
   "version": "2.7.12"
  }
 },
 "nbformat": 4,
 "nbformat_minor": 0
}
