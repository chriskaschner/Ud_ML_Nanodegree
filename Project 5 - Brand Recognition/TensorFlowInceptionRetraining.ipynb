{
 "cells": [
  {
   "cell_type": "code",
   "execution_count": 1,
   "metadata": {
    "collapsed": false,
    "scrolled": true
   },
   "outputs": [],
   "source": [
    "import numpy as np\n",
    "import tensorflow as tf"
   ]
  },
  {
   "cell_type": "code",
   "execution_count": 25,
   "metadata": {
    "collapsed": false
   },
   "outputs": [],
   "source": [
    "# # original model\n",
    "# # imagePath = './Report/AltraDifficult01.jpg'\n",
    "# # imagePath = './Report/AltraOccluded.jpg'\n",
    "# # imagePath = './Report/NikeMorphed.jpg'\n",
    "# # imagePath = './Report/NikeMorphedCrop.jpg'\n",
    "# # imagePath = './Report/NikeDifficult01.jpg'\n",
    "# # imagePath = './Report/NikeAltra.jpg'\n",
    "# imagePath = './Report/Neither.jpg'\n",
    "# modelFullPath = './Report/original_output_graph.pb'\n",
    "# labelsFullPath = './Report/original_output_labels.txt'"
   ]
  },
  {
   "cell_type": "code",
   "execution_count": 20,
   "metadata": {
    "collapsed": true
   },
   "outputs": [],
   "source": [
    "# newer model\n",
    "# imagePath = './Report/AltraDifficult01.jpg'\n",
    "# imagePath = './Report/AltraOccluded.jpg'\n",
    "# imagePath = './Report/NikeAltra.jpg'\n",
    "# imagePath = './Report/NikeMorphedCrop.jpg'\n",
    "# imagePath = './Report/NikeDifficult01.jpg'\n",
    "imagePath = './Report/Neither.jpg'\n",
    "modelFullPath = './Report/output_graph.pb'\n",
    "labelsFullPath = './Report/output_labels.txt'"
   ]
  },
  {
   "cell_type": "code",
   "execution_count": 21,
   "metadata": {
    "collapsed": false
   },
   "outputs": [],
   "source": [
    "answer = None\n",
    "\n",
    "if not tf.gfile.Exists(imagePath):\n",
    "    tf.logging.fatal('File does not exist %s', imagePath)\n",
    "    #return answer\n",
    "\n",
    "image_data = tf.gfile.FastGFile(imagePath, 'rb').read()"
   ]
  },
  {
   "cell_type": "code",
   "execution_count": 22,
   "metadata": {
    "collapsed": false
   },
   "outputs": [
    {
     "name": "stdout",
     "output_type": "stream",
     "text": [
      "neither (score = 0.85841)\n",
      "nike (score = 0.13508)\n",
      "altra (score = 0.00651)\n"
     ]
    }
   ],
   "source": [
    "with tf.Session() as sess:\n",
    "    softmax_tensor = sess.graph.get_tensor_by_name('final_result:0')\n",
    "    predictions = sess.run(softmax_tensor,{'DecodeJpeg/contents:0': image_data})\n",
    "    predictions = np.squeeze(predictions)\n",
    "    top_k = predictions.argsort()[-5:][::-1]  # Getting top 5 predictions\n",
    "    f = open(labelsFullPath, 'rb')\n",
    "    lines = f.readlines()\n",
    "    labels = [str(w).replace(\"\\n\", \"\") for w in lines]\n",
    "    for node_id in top_k:\n",
    "        human_string = labels[node_id]\n",
    "        score = predictions[node_id]\n",
    "        print('%s (score = %.5f)' % (human_string, score))\n",
    "\n",
    "    answer = labels[top_k[0]]"
   ]
  },
  {
   "cell_type": "code",
   "execution_count": null,
   "metadata": {
    "collapsed": true
   },
   "outputs": [],
   "source": []
  },
  {
   "cell_type": "code",
   "execution_count": 3,
   "metadata": {
    "collapsed": true
   },
   "outputs": [],
   "source": [
    "def create_graph():\n",
    "    \"\"\"Creates a graph from saved GraphDef file and returns a saver.\"\"\"\n",
    "    # Creates graph from saved graph_def.pb.\n",
    "    with tf.gfile.FastGFile(modelFullPath, 'rb') as f:\n",
    "        graph_def = tf.GraphDef()\n",
    "        graph_def.ParseFromString(f.read())\n",
    "        _ = tf.import_graph_def(graph_def, name='')"
   ]
  },
  {
   "cell_type": "code",
   "execution_count": 4,
   "metadata": {
    "collapsed": false
   },
   "outputs": [],
   "source": [
    "# Creates graph from saved GraphDef.\n",
    "create_graph()"
   ]
  },
  {
   "cell_type": "code",
   "execution_count": null,
   "metadata": {
    "collapsed": true
   },
   "outputs": [],
   "source": []
  }
 ],
 "metadata": {
  "kernelspec": {
   "display_name": "Python 2",
   "language": "python",
   "name": "python2"
  },
  "language_info": {
   "codemirror_mode": {
    "name": "ipython",
    "version": 2
   },
   "file_extension": ".py",
   "mimetype": "text/x-python",
   "name": "python",
   "nbconvert_exporter": "python",
   "pygments_lexer": "ipython2",
   "version": "2.7.12"
  }
 },
 "nbformat": 4,
 "nbformat_minor": 0
}
