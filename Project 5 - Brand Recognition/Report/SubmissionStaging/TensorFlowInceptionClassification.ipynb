{
 "cells": [
  {
   "cell_type": "code",
   "execution_count": null,
   "metadata": {
    "collapsed": false,
    "scrolled": true
   },
   "outputs": [],
   "source": [
    "import numpy as np\n",
    "import tensorflow as tf"
   ]
  },
  {
   "cell_type": "code",
   "execution_count": null,
   "metadata": {
    "collapsed": true
   },
   "outputs": [],
   "source": [
    "# update with locations of\n",
    "imagePath = '.../path/to/your/info/image.jpg'\n",
    "modelFullPath = '.../path/to/your/info/output_graph.pb'\n",
    "labelsFullPath = '.../path/to/your/info/output_labels.txt'"
   ]
  },
  {
   "cell_type": "code",
   "execution_count": null,
   "metadata": {
    "collapsed": true
   },
   "outputs": [],
   "source": [
    "def create_graph():\n",
    "    \"\"\"Creates a graph from saved GraphDef file and returns a saver.\"\"\"\n",
    "    # Creates graph from saved graph_def.pb.\n",
    "    with tf.gfile.FastGFile(modelFullPath, 'rb') as f:\n",
    "        graph_def = tf.GraphDef()\n",
    "        graph_def.ParseFromString(f.read())\n",
    "        _ = tf.import_graph_def(graph_def, name='')\n",
    "# Creates graph from saved GraphDef.\n",
    "create_graph()"
   ]
  },
  {
   "cell_type": "code",
   "execution_count": null,
   "metadata": {
    "collapsed": false
   },
   "outputs": [],
   "source": [
    "answer = None\n",
    "\n",
    "if not tf.gfile.Exists(imagePath):\n",
    "    tf.logging.fatal('File does not exist %s', imagePath)\n",
    "    #return answer\n",
    "\n",
    "image_data = tf.gfile.FastGFile(imagePath, 'rb').read()"
   ]
  },
  {
   "cell_type": "code",
   "execution_count": null,
   "metadata": {
    "collapsed": false
   },
   "outputs": [],
   "source": [
    "with tf.Session() as sess:\n",
    "    softmax_tensor = sess.graph.get_tensor_by_name('final_result:0')\n",
    "    predictions = sess.run(softmax_tensor,{'DecodeJpeg/contents:0': image_data})\n",
    "    predictions = np.squeeze(predictions)\n",
    "    top_k = predictions.argsort()[-5:][::-1]  # Getting top 5 predictions\n",
    "    f = open(labelsFullPath, 'rb')\n",
    "    lines = f.readlines()\n",
    "    labels = [str(w).replace(\"\\n\", \"\") for w in lines]\n",
    "    for node_id in top_k:\n",
    "        human_string = labels[node_id]\n",
    "        score = predictions[node_id]\n",
    "        print('%s (score = %.5f)' % (human_string, score))\n",
    "\n",
    "    answer = labels[top_k[0]]"
   ]
  }
 ],
 "metadata": {
  "kernelspec": {
   "display_name": "Python 2",
   "language": "python",
   "name": "python2"
  },
  "language_info": {
   "codemirror_mode": {
    "name": "ipython",
    "version": 2
   },
   "file_extension": ".py",
   "mimetype": "text/x-python",
   "name": "python",
   "nbconvert_exporter": "python",
   "pygments_lexer": "ipython2",
   "version": "2.7.12"
  }
 },
 "nbformat": 4,
 "nbformat_minor": 0
}
