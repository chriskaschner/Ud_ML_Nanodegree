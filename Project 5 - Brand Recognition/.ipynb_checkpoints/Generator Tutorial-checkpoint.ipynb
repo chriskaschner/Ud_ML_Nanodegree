{
 "cells": [
  {
   "cell_type": "code",
   "execution_count": 6,
   "metadata": {
    "collapsed": true
   },
   "outputs": [],
   "source": [
    "# From here: https://docs.google.com/document/d/1JaG8FdcguO-ib3HPqEWIbs_8-XZ-KPX3HVP2XGDSD_8/edit#"
   ]
  },
  {
   "cell_type": "code",
   "execution_count": 1,
   "metadata": {
    "collapsed": true
   },
   "outputs": [],
   "source": [
    "def fibonacci(limit):\n",
    "    nums = []\n",
    "    current = 0\n",
    "    next = 1\n",
    "    while current < limit:\n",
    "        current, next = next, next + current\n",
    "        nums.append(current)\n",
    "    return nums"
   ]
  },
  {
   "cell_type": "code",
   "execution_count": 2,
   "metadata": {
    "collapsed": false
   },
   "outputs": [
    {
     "data": {
      "text/plain": [
       "[1, 1, 2, 3, 5]"
      ]
     },
     "execution_count": 2,
     "metadata": {},
     "output_type": "execute_result"
    }
   ],
   "source": [
    "fibonacci(5)"
   ]
  },
  {
   "cell_type": "code",
   "execution_count": 3,
   "metadata": {
    "collapsed": true
   },
   "outputs": [],
   "source": [
    "def fibonacci_generator():\n",
    "    current = 0\n",
    "    next = 1\n",
    "    while True:\n",
    "        current, next = next, next + current\n",
    "        yield current"
   ]
  },
  {
   "cell_type": "code",
   "execution_count": 5,
   "metadata": {
    "collapsed": false
   },
   "outputs": [
    {
     "name": "stdout",
     "output_type": "stream",
     "text": [
      "another: 1\n",
      "another: 1\n",
      "another: 2\n",
      "another: 3\n",
      "another: 5\n",
      "another: 8\n",
      "another: 13\n",
      "another: 21\n"
     ]
    }
   ],
   "source": [
    "for n in fibonacci_generator():\n",
    "    print (\"another: {}\".format(n))\n",
    "    if n > 20:\n",
    "           break"
   ]
  },
  {
   "cell_type": "code",
   "execution_count": null,
   "metadata": {
    "collapsed": true
   },
   "outputs": [],
   "source": []
  }
 ],
 "metadata": {
  "kernelspec": {
   "display_name": "Python 2",
   "language": "python",
   "name": "python2"
  },
  "language_info": {
   "codemirror_mode": {
    "name": "ipython",
    "version": 2
   },
   "file_extension": ".py",
   "mimetype": "text/x-python",
   "name": "python",
   "nbconvert_exporter": "python",
   "pygments_lexer": "ipython2",
   "version": "2.7.12"
  }
 },
 "nbformat": 4,
 "nbformat_minor": 0
}
