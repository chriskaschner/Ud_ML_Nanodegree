{
 "cells": [
  {
   "cell_type": "code",
   "execution_count": 63,
   "metadata": {
    "collapsed": false,
    "scrolled": true
   },
   "outputs": [],
   "source": [
    "import numpy as np\n",
    "import tensorflow as tf"
   ]
  },
  {
   "cell_type": "code",
   "execution_count": 64,
   "metadata": {
    "collapsed": false
   },
   "outputs": [],
   "source": [
    "# # original model\n",
    "# imagePath = './Report/AltraDifficult01.jpg'\n",
    "# # imagePath = './Report/AltraOccluded.jpg'\n",
    "# # imagePath = './Report/NikeMorphed.jpg'\n",
    "# # imagePath = './Report/NikeMorphedCrop.jpg'\n",
    "# # imagePath = './Report/NikeDifficult01.jpg'\n",
    "# # imagePath = './Report/NikeAltra.jpg'\n",
    "# # imagePath = './Report/Neither.jpg'\n",
    "# modelFullPath = './Report/original_output_graph.pb'\n",
    "# labelsFullPath = './Report/original_output_labels.txt'"
   ]
  },
  {
   "cell_type": "code",
   "execution_count": 73,
   "metadata": {
    "collapsed": true
   },
   "outputs": [],
   "source": [
    "# optimized binary model\n",
    "# imagePath = './Report/AltraDifficult01.jpg'\n",
    "# imagePath = './Report/AltraOccluded.jpg'\n",
    "# imagePath = './Report/NikeMorphed.jpg'\n",
    "# imagePath = './Report/NikeMorphedCrop.jpg'\n",
    "# imagePath = './Report/NikeDifficult01.jpg'\n",
    "# imagePath = './Report/NikeAltra.jpg'\n",
    "imagePath = './Report/Neither.jpg'\n",
    "modelFullPath = './Report/run6_output_graph.pb'\n",
    "labelsFullPath = './Report/run6_output_labels.txt'"
   ]
  },
  {
   "cell_type": "code",
   "execution_count": 66,
   "metadata": {
    "collapsed": true
   },
   "outputs": [],
   "source": [
    "# # newer model\n",
    "# # imagePath = './Report/AltraDifficult01.jpg'\n",
    "# # imagePath = './Report/AltraOccluded.jpg'\n",
    "# # imagePath = './Report/NikeAltra.jpg'\n",
    "# # imagePath = './Report/NikeMorphedCrop.jpg'\n",
    "# # imagePath = './Report/NikeDifficult01.jpg'\n",
    "# # imagePath = './Report/Neither.jpg'\n",
    "# modelFullPath = './Report/output_graph.pb'\n",
    "# labelsFullPath = './Report/output_labels.txt'"
   ]
  },
  {
   "cell_type": "code",
   "execution_count": 52,
   "metadata": {
    "collapsed": true
   },
   "outputs": [],
   "source": [
    "# imagePath = './Report/ShoeProblems/ShoeProblem01.JPG'\n",
    "# # imagePath = './Report/ShoeProblems/ShoeProblem02.JPG'\n",
    "# # imagePath = './Report/ShoeProblems/ShoeProblem03.JPG'\n",
    "# # imagePath = './Report/ShoeProblems/ShoeProblem04.JPG'\n",
    "# # imagePath = './Report/ShoeProblems/ShoeProblem05.JPG'\n",
    "# # imagePath = './Report/ShoeProblems/ShoeProblem06.JPG'"
   ]
  },
  {
   "cell_type": "code",
   "execution_count": 74,
   "metadata": {
    "collapsed": false
   },
   "outputs": [],
   "source": [
    "answer = None\n",
    "\n",
    "if not tf.gfile.Exists(imagePath):\n",
    "    tf.logging.fatal('File does not exist %s', imagePath)\n",
    "    #return answer\n",
    "\n",
    "image_data = tf.gfile.FastGFile(imagePath, 'rb').read()"
   ]
  },
  {
   "cell_type": "code",
   "execution_count": 75,
   "metadata": {
    "collapsed": false
   },
   "outputs": [
    {
     "name": "stdout",
     "output_type": "stream",
     "text": [
      "nike (score = 0.85841)\n",
      "altra (score = 0.13508)\n"
     ]
    },
    {
     "ename": "IndexError",
     "evalue": "list index out of range",
     "output_type": "error",
     "traceback": [
      "\u001b[0;31m---------------------------------------------------------------------------\u001b[0m",
      "\u001b[0;31mIndexError\u001b[0m                                Traceback (most recent call last)",
      "\u001b[0;32m<ipython-input-75-19db9d0826ba>\u001b[0m in \u001b[0;36m<module>\u001b[0;34m()\u001b[0m\n\u001b[1;32m      8\u001b[0m     \u001b[0mlabels\u001b[0m \u001b[0;34m=\u001b[0m \u001b[0;34m[\u001b[0m\u001b[0mstr\u001b[0m\u001b[0;34m(\u001b[0m\u001b[0mw\u001b[0m\u001b[0;34m)\u001b[0m\u001b[0;34m.\u001b[0m\u001b[0mreplace\u001b[0m\u001b[0;34m(\u001b[0m\u001b[0;34m\"\\n\"\u001b[0m\u001b[0;34m,\u001b[0m \u001b[0;34m\"\"\u001b[0m\u001b[0;34m)\u001b[0m \u001b[0;32mfor\u001b[0m \u001b[0mw\u001b[0m \u001b[0;32min\u001b[0m \u001b[0mlines\u001b[0m\u001b[0;34m]\u001b[0m\u001b[0;34m\u001b[0m\u001b[0m\n\u001b[1;32m      9\u001b[0m     \u001b[0;32mfor\u001b[0m \u001b[0mnode_id\u001b[0m \u001b[0;32min\u001b[0m \u001b[0mtop_k\u001b[0m\u001b[0;34m:\u001b[0m\u001b[0;34m\u001b[0m\u001b[0m\n\u001b[0;32m---> 10\u001b[0;31m         \u001b[0mhuman_string\u001b[0m \u001b[0;34m=\u001b[0m \u001b[0mlabels\u001b[0m\u001b[0;34m[\u001b[0m\u001b[0mnode_id\u001b[0m\u001b[0;34m]\u001b[0m\u001b[0;34m\u001b[0m\u001b[0m\n\u001b[0m\u001b[1;32m     11\u001b[0m         \u001b[0mscore\u001b[0m \u001b[0;34m=\u001b[0m \u001b[0mpredictions\u001b[0m\u001b[0;34m[\u001b[0m\u001b[0mnode_id\u001b[0m\u001b[0;34m]\u001b[0m\u001b[0;34m\u001b[0m\u001b[0m\n\u001b[1;32m     12\u001b[0m         \u001b[0;32mprint\u001b[0m\u001b[0;34m(\u001b[0m\u001b[0;34m'%s (score = %.5f)'\u001b[0m \u001b[0;34m%\u001b[0m \u001b[0;34m(\u001b[0m\u001b[0mhuman_string\u001b[0m\u001b[0;34m,\u001b[0m \u001b[0mscore\u001b[0m\u001b[0;34m)\u001b[0m\u001b[0;34m)\u001b[0m\u001b[0;34m\u001b[0m\u001b[0m\n",
      "\u001b[0;31mIndexError\u001b[0m: list index out of range"
     ]
    }
   ],
   "source": [
    "with tf.Session() as sess:\n",
    "    softmax_tensor = sess.graph.get_tensor_by_name('final_result:0')\n",
    "    predictions = sess.run(softmax_tensor,{'DecodeJpeg/contents:0': image_data})\n",
    "    predictions = np.squeeze(predictions)\n",
    "    top_k = predictions.argsort()[-5:][::-1]  # Getting top 5 predictions\n",
    "    f = open(labelsFullPath, 'rb')\n",
    "    lines = f.readlines()\n",
    "    labels = [str(w).replace(\"\\n\", \"\") for w in lines]\n",
    "    for node_id in top_k:\n",
    "        human_string = labels[node_id]\n",
    "        score = predictions[node_id]\n",
    "        print('%s (score = %.5f)' % (human_string, score))\n",
    "\n",
    "    answer = labels[top_k[0]]"
   ]
  },
  {
   "cell_type": "code",
   "execution_count": null,
   "metadata": {
    "collapsed": true
   },
   "outputs": [],
   "source": []
  },
  {
   "cell_type": "code",
   "execution_count": 67,
   "metadata": {
    "collapsed": true
   },
   "outputs": [],
   "source": [
    "def create_graph():\n",
    "    \"\"\"Creates a graph from saved GraphDef file and returns a saver.\"\"\"\n",
    "    # Creates graph from saved graph_def.pb.\n",
    "    with tf.gfile.FastGFile(modelFullPath, 'rb') as f:\n",
    "        graph_def = tf.GraphDef()\n",
    "        graph_def.ParseFromString(f.read())\n",
    "        _ = tf.import_graph_def(graph_def, name='')"
   ]
  },
  {
   "cell_type": "code",
   "execution_count": 68,
   "metadata": {
    "collapsed": false
   },
   "outputs": [],
   "source": [
    "# Creates graph from saved GraphDef.\n",
    "create_graph()"
   ]
  },
  {
   "cell_type": "code",
   "execution_count": null,
   "metadata": {
    "collapsed": true
   },
   "outputs": [],
   "source": []
  }
 ],
 "metadata": {
  "kernelspec": {
   "display_name": "Python 2",
   "language": "python",
   "name": "python2"
  },
  "language_info": {
   "codemirror_mode": {
    "name": "ipython",
    "version": 2
   },
   "file_extension": ".py",
   "mimetype": "text/x-python",
   "name": "python",
   "nbconvert_exporter": "python",
   "pygments_lexer": "ipython2",
   "version": "2.7.12"
  }
 },
 "nbformat": 4,
 "nbformat_minor": 0
}
